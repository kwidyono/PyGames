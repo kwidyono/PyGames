{
  "nbformat": 4,
  "nbformat_minor": 0,
  "metadata": {
    "colab": {
      "name": "1stPythonColabNotebook.ipynb",
      "provenance": [],
      "include_colab_link": true
    },
    "kernelspec": {
      "name": "python3",
      "display_name": "Python 3"
    },
    "language_info": {
      "name": "python"
    }
  },
  "cells": [
    {
      "cell_type": "markdown",
      "metadata": {
        "id": "view-in-github",
        "colab_type": "text"
      },
      "source": [
        "<a href=\"https://colab.research.google.com/github/kwidyono/PyGames/blob/main/1stPythonColabNotebook.ipynb\" target=\"_parent\"><img src=\"https://colab.research.google.com/assets/colab-badge.svg\" alt=\"Open In Colab\"/></a>"
      ]
    },
    {
      "cell_type": "code",
      "execution_count": 6,
      "metadata": {
        "id": "Mc0uuyXCRP0h",
        "outputId": "8608a7a2-fbfa-42c8-e76e-a55a34ba4d82",
        "colab": {
          "base_uri": "https://localhost:8080/"
        }
      },
      "outputs": [
        {
          "output_type": "stream",
          "name": "stdout",
          "text": [
            "hello, let's get started now: 0\n",
            "hello, let's get started now: 1\n",
            "hello, let's get started now: 2\n"
          ]
        }
      ],
      "source": [
        "for j in range (3):\n",
        "  print (\"hello, let's get started now: \" + str(j))"
      ]
    }
  ]
}