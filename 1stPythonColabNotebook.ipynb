{
  "nbformat": 4,
  "nbformat_minor": 0,
  "metadata": {
    "colab": {
      "name": "1stPythonColabNotebook.ipynb",
      "provenance": [],
      "authorship_tag": "ABX9TyO1ST0577FSTHeG5x/8Yo3D",
      "include_colab_link": true
    },
    "kernelspec": {
      "name": "python3",
      "display_name": "Python 3"
    },
    "language_info": {
      "name": "python"
    }
  },
  "cells": [
    {
      "cell_type": "markdown",
      "metadata": {
        "id": "view-in-github",
        "colab_type": "text"
      },
      "source": [
        "<a href=\"https://colab.research.google.com/github/kwidyono/PyGames/blob/main/1stPythonColabNotebook.ipynb\" target=\"_parent\"><img src=\"https://colab.research.google.com/assets/colab-badge.svg\" alt=\"Open In Colab\"/></a>"
      ]
    },
    {
      "cell_type": "code",
      "execution_count": 2,
      "metadata": {
        "id": "Mc0uuyXCRP0h",
        "outputId": "7f2a055f-0419-4a18-e0d1-ffc56b3f4002",
        "colab": {
          "base_uri": "https://localhost:8080/"
        }
      },
      "outputs": [
        {
          "output_type": "stream",
          "name": "stdout",
          "text": [
            "hello, let's get started\n"
          ]
        }
      ],
      "source": [
        "print (\"hello, let's get started\")"
      ]
    }
  ]
}